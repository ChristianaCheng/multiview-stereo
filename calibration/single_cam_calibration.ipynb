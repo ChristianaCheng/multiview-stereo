{
  "nbformat": 4,
  "nbformat_minor": 0,
  "metadata": {
    "colab": {
      "provenance": []
    },
    "kernelspec": {
      "name": "python3",
      "display_name": "Python 3"
    },
    "language_info": {
      "name": "python"
    }
  },
  "cells": [
    {
      "cell_type": "markdown",
      "source": [
        "# Single camera calibration"
      ],
      "metadata": {
        "id": "ZAi6_cENA3L9"
      }
    },
    {
      "cell_type": "markdown",
      "source": [
        "## Single camera calibration with the knowledge of image's meta-information\n"
      ],
      "metadata": {
        "id": "utEYzJ6oSg0L"
      }
    },
    {
      "cell_type": "markdown",
      "source": [
        "An image taken by a camera gives the following information:<br>\n",
        "- focus length = 25.7mm <br>\n",
        "- image resolution (horizontal&vertical)= 350 PPI <br>\n",
        "- image dimension = 5472(width) * 3648(height)<br>\n",
        "\n",
        "Given this information, our goal is to calculate the camera calibtration matrix K\n",
        "$P =\n",
        " \\begin{pmatrix}\n",
        "  f\\cdot m_x & s & p_x \\\\\n",
        "  0 &  f\\cdot m_y & p_y  \\\\\n",
        "  0 & 0 & 1  \\\\\n",
        " \\end{pmatrix}$\n",
        "\n",
        "Assumptions: \n",
        "1. pixels have no skew → s = 0\n",
        "2. pixels are square → $f_x$ = $f_y$ = f\n",
        "3. the principal point is at the\n",
        "center of the image (measured in pixel)-> $p_x = \\frac{1}{2} \\cdot \\text{image width in pixel}$\n",
        "$p_y = \\frac{1}{2} \\cdot \\text{image height in pixel}$"
      ],
      "metadata": {
        "id": "0SREsU4kSAkN"
      }
    },
    {
      "cell_type": "code",
      "source": [
        "import numpy as np\n",
        "\n",
        "def get_calibration_mat_K(r,c,f,mx,my):\n",
        "  '''\n",
        "  r: width of the image (pixel)\n",
        "  c: height of the image (pixel)\n",
        "  f: focus length (mm)\n",
        "  mx,my: resolution in horizontal and vertical direction (pixel per mm)\n",
        "  '''\n",
        "  fmx,fmy = f*mx,f*my # focus length in pixel\n",
        "  px,py = 0.5*r,0.5*c # principal point in pixel\n",
        "  K = np.diag([fmx,fmy,1])\n",
        "  K[0,2],K[1,2] = px,py\n",
        "  return K"
      ],
      "metadata": {
        "id": "H-8x4BbqXVER"
      },
      "execution_count": 19,
      "outputs": []
    },
    {
      "cell_type": "code",
      "source": [
        "# for our particular example, the parameters are as follows\n",
        "f = 25.7 # mm\n",
        "mx = my = 350 # pixel/inch\n",
        "# convert the unit pixel/inch to pixel/mm with the relation\n",
        "# 1 ppi = 0.03937 ppm\n",
        "mx = my = round(mx*0.03937,0) # pixel/mm\n",
        "r,c = 5472, 3648 # image dimension in pixel\n",
        "np.set_printoptions(suppress=True)\n",
        "K = get_calibration_mat_K(r,c,f,mx,my)\n",
        "print('Intrinsic camera parameters:','\\n',K)"
      ],
      "metadata": {
        "colab": {
          "base_uri": "https://localhost:8080/"
        },
        "id": "9J22RejlY8qE",
        "outputId": "2cb8d7fb-0d7c-429b-a5f6-b95a9e6879a3"
      },
      "execution_count": 26,
      "outputs": [
        {
          "output_type": "stream",
          "name": "stdout",
          "text": [
            "Intrinsic camera parameters: \n",
            " [[ 359.8    0.  2736. ]\n",
            " [   0.   359.8 1824. ]\n",
            " [   0.     0.     1. ]]\n"
          ]
        }
      ]
    },
    {
      "cell_type": "markdown",
      "source": [
        "## Single camera calibration with an image of an object with known geometry"
      ],
      "metadata": {
        "id": "rZzfV9xKAfDK"
      }
    },
    {
      "cell_type": "markdown",
      "source": [
        "- Take an image of an object with known geometry\n",
        "- Given a set of corresponding 3D points and 2D points, we can use least squares to estimate projection matrix\n",
        "$P =\n",
        " \\begin{pmatrix}\n",
        "  p_{11} & p_{12} & p_{13} & p_{14}\\\\\n",
        "   p_{12} & p_{22} & p_{23} & p_{24}  \\\\\n",
        "   p_{13} & p_{32} & p_{33} & p_{34}\\\\\n",
        " \\end{pmatrix}$\n",
        "- Intrinsic and extrinsic parameters can then be extracted from P\n",
        " 1. Getting intrinsic matrix and rotation matrix with QR factorization\n",
        "P = KR where \\\\\n",
        " $P = \\begin{pmatrix}\n",
        "  p_{11} & p_{12} & p_{13} \\\\\n",
        "   p_{12} & p_{22} & p_{23} \\\\\n",
        "   p_{13} & p_{32} & p_{33} \\\\\n",
        " \\end{pmatrix}$,\n",
        " $K = \\begin{pmatrix}\n",
        "  f\\cdot m_x & s & p_x \\\\\n",
        "  0 &  f\\cdot m_y & p_y  \\\\\n",
        "  0 & 0 & 1  \\\\\n",
        " \\end{pmatrix}$ and $\n",
        "  R = \\begin{pmatrix}\n",
        "  r_{11} & r_{12} & r_{13} \\\\\n",
        "   r_{12} & r_{22} & r_{23} \\\\\n",
        "   r_{13} & r_{32} & r_{33} \\\\\n",
        " \\end{pmatrix} $\n",
        " 2. Getting translation vector T by solving\n",
        "  $\\begin{pmatrix}\n",
        "  p_{14} \\\\\n",
        "  p_{24} \\\\\n",
        "  p_{34} \\\\\n",
        " \\end{pmatrix}$ = K⋅$\\begin{pmatrix}\n",
        "  t_{x} \\\\\n",
        "  t_{y} \\\\\n",
        "  t_{z} \\\\\n",
        " \\end{pmatrix}$\n",
        "\n"
      ],
      "metadata": {
        "id": "Sckne4xGA-Ux"
      }
    }
  ]
}
